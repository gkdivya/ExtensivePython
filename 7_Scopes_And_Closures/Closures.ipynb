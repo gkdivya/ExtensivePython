{
  "nbformat": 4,
  "nbformat_minor": 0,
  "metadata": {
    "colab": {
      "name": "Closures.ipynb",
      "provenance": [],
      "collapsed_sections": [],
      "authorship_tag": "ABX9TyM71AQCPZLcxU5K58vsRA8w",
      "include_colab_link": true
    },
    "kernelspec": {
      "name": "python3",
      "display_name": "Python 3"
    }
  },
  "cells": [
    {
      "cell_type": "markdown",
      "metadata": {
        "id": "view-in-github",
        "colab_type": "text"
      },
      "source": [
        "<a href=\"https://colab.research.google.com/github/gkdivya/ExtensivePython/blob/main/7_Scopes_And_Closures/Closures.ipynb\" target=\"_parent\"><img src=\"https://colab.research.google.com/assets/colab-badge.svg\" alt=\"Open In Colab\"/></a>"
      ]
    },
    {
      "cell_type": "code",
      "metadata": {
        "id": "qE6gU_14aFwu",
        "colab": {
          "base_uri": "https://localhost:8080/"
        },
        "outputId": "eda9de48-5692-42fd-d889-22866029ca03"
      },
      "source": [
        "\n",
        "# Python \n",
        "def checkFunction(func):\n",
        "    chars = 50\n",
        " \n",
        "    def checkdocString():\n",
        "        docstring_length = len(func.__doc__)\n",
        "        if(int (docstring_length) > int (chars)):\n",
        "          print(f'Valid: {docstring_length}')\n",
        "        else:\n",
        "          print(f'Non Valid: {docstring_length}')\n",
        " \n",
        "    # Returning Inner function 'checkdocString'\n",
        "    return checkdocString \n",
        "\n",
        "def my_func():\n",
        "    \"\"\"My docstring is both funny and informative : docstring_length\"\"\"\n",
        "    pass\n",
        "\n",
        "checkFunction(my_func)()   \n",
        "# if __name__ == '__main__':\n",
        "#     myFunction = outerFunction('Hey!')\n",
        "#     myFunction()"
      ],
      "execution_count": null,
      "outputs": [
        {
          "output_type": "stream",
          "text": [
            "Valid: 61\n"
          ],
          "name": "stdout"
        }
      ]
    },
    {
      "cell_type": "code",
      "metadata": {
        "id": "dO0Q-aHlny6R"
      },
      "source": [
        "def getFibonacciNo():\n",
        "    number = 0    \n",
        "    nextfibonacci = 1\n",
        " \n",
        "    def Fibonacci():\n",
        "        nonlocal number, nextfibonacci\n",
        "        number, nextfibonacci = number + nextfibonacci, number\n",
        "        return nextfibonacci\n",
        "    # Returning Inner function 'checkdocString'\n",
        "    return Fibonacci "
      ],
      "execution_count": 19,
      "outputs": []
    },
    {
      "cell_type": "code",
      "metadata": {
        "colab": {
          "base_uri": "https://localhost:8080/"
        },
        "id": "C8ASSoi4qC4A",
        "outputId": "0c6b5d35-f087-4ce1-9ba3-bfb3afdc525d"
      },
      "source": [
        "fibonacci = getFibonacciNo()\n",
        "for i in range(0,10):\n",
        "    print(fibonacci())"
      ],
      "execution_count": 21,
      "outputs": [
        {
          "output_type": "stream",
          "text": [
            "0\n",
            "1\n",
            "1\n",
            "2\n",
            "3\n",
            "5\n",
            "8\n",
            "13\n",
            "21\n",
            "34\n"
          ],
          "name": "stdout"
        }
      ]
    },
    {
      "cell_type": "code",
      "metadata": {
        "id": "6RF0rhIz0tjj"
      },
      "source": [
        "import random\n",
        "def add(no1, no2):\n",
        "  return no1 + no2\n",
        "def mul(no1, no2):\n",
        "  return no1 * no2\n",
        "def div(no1, no2):\n",
        "  return no1 / no2\n",
        "\n",
        "\n",
        "def func_count(func_call_counter: dict):\n",
        "    if type(func_call_counter) != dict:\n",
        "        raise TypeError(\"Pass the dictionary\")\n",
        "    def func_counter(func: \"Function\", *args, **kwargs):\n",
        "        nonlocal func_call_counter \n",
        "        func_name = str(func.__name__)\n",
        "        if func_name not in list(func_call_counter.keys()):\n",
        "            func_call_counter[func_name] = 0\n",
        "        func_call_counter[func_name] += 1\n",
        "        return func(*args, **kwargs)\n",
        "    return func_counter"
      ],
      "execution_count": 25,
      "outputs": []
    },
    {
      "cell_type": "code",
      "metadata": {
        "id": "shaoXjGM1dMJ",
        "colab": {
          "base_uri": "https://localhost:8080/"
        },
        "outputId": "47496da4-7f62-4b91-8e84-e64f6eb47974"
      },
      "source": [
        "counter_dict = dict()\n",
        "fc = func_count(counter_dict)\n",
        "\n",
        "for i in range(1, 3):\n",
        "  fc(add, random.randint(1, 4),  random.randint(1, 4))\n",
        "  fc(div, random.randint(1, 4),  random.randint(1, 4))\n",
        "  fc(mul, random.randint(1, 4),  random.randint(1, 4))\n",
        "  fc(mul, random.randint(1, 4),  random.randint(1, 4))\n",
        "\n",
        "print(counter_dict)"
      ],
      "execution_count": 29,
      "outputs": [
        {
          "output_type": "stream",
          "text": [
            "{'add': 2, 'div': 2, 'mul': 4}\n"
          ],
          "name": "stdout"
        }
      ]
    },
    {
      "cell_type": "code",
      "metadata": {
        "id": "nL9vp36McaNr"
      },
      "source": [
        ""
      ],
      "execution_count": null,
      "outputs": []
    }
  ]
}