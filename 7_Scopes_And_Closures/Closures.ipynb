{
  "nbformat": 4,
  "nbformat_minor": 0,
  "metadata": {
    "colab": {
      "name": "Closures.ipynb",
      "provenance": [],
      "collapsed_sections": [],
      "authorship_tag": "ABX9TyMEj7KoEf7ql1YpRGLo08qG",
      "include_colab_link": true
    },
    "kernelspec": {
      "name": "python3",
      "display_name": "Python 3"
    }
  },
  "cells": [
    {
      "cell_type": "markdown",
      "metadata": {
        "id": "view-in-github",
        "colab_type": "text"
      },
      "source": [
        "<a href=\"https://colab.research.google.com/github/gkdivya/ExtensivePython/blob/main/7_Scopes_And_Closures/Closures.ipynb\" target=\"_parent\"><img src=\"https://colab.research.google.com/assets/colab-badge.svg\" alt=\"Open In Colab\"/></a>"
      ]
    },
    {
      "cell_type": "markdown",
      "metadata": {
        "id": "NDZ76a-7W_mh"
      },
      "source": [
        "Write a closure that takes a function and then check whether the function passed has a docstring with more than 50 characters. 50 is stored as a free variable "
      ]
    },
    {
      "cell_type": "code",
      "metadata": {
        "id": "qE6gU_14aFwu",
        "colab": {
          "base_uri": "https://localhost:8080/"
        },
        "outputId": "eda9de48-5692-42fd-d889-22866029ca03"
      },
      "source": [
        "\n",
        "# Python \n",
        "def checkFunction(func):\n",
        "    chars = 50\n",
        " \n",
        "    def checkdocString():\n",
        "        docstring_length = len(func.__doc__)\n",
        "        if(int (docstring_length) > int (chars)):\n",
        "          print(f'Valid: {docstring_length}')\n",
        "        else:\n",
        "          print(f'Non Valid: {docstring_length}')\n",
        " \n",
        "    # Returning Inner function 'checkdocString'\n",
        "    return checkdocString \n",
        "\n",
        "def my_func():\n",
        "    \"\"\"My docstring is both funny and informative : docstring_length\"\"\"\n",
        "    pass\n",
        "\n",
        "checkFunction(my_func)()   \n",
        "# if __name__ == '__main__':\n",
        "#     myFunction = outerFunction('Hey!')\n",
        "#     myFunction()"
      ],
      "execution_count": null,
      "outputs": [
        {
          "output_type": "stream",
          "text": [
            "Valid: 61\n"
          ],
          "name": "stdout"
        }
      ]
    },
    {
      "cell_type": "markdown",
      "metadata": {
        "id": "d55cZqBlXFgz"
      },
      "source": [
        "Write a closure that gives you the next Fibonacci number"
      ]
    },
    {
      "cell_type": "code",
      "metadata": {
        "id": "dO0Q-aHlny6R"
      },
      "source": [
        "def getFibonacciNo():\n",
        "    number = 0    \n",
        "    nextfibonacci = 1\n",
        " \n",
        "    def Fibonacci():\n",
        "        nonlocal number, nextfibonacci\n",
        "        number, nextfibonacci = number + nextfibonacci, number\n",
        "        return nextfibonacci\n",
        "    # Returning Inner function 'checkdocString'\n",
        "    return Fibonacci "
      ],
      "execution_count": 19,
      "outputs": []
    },
    {
      "cell_type": "code",
      "metadata": {
        "colab": {
          "base_uri": "https://localhost:8080/"
        },
        "id": "C8ASSoi4qC4A",
        "outputId": "0c6b5d35-f087-4ce1-9ba3-bfb3afdc525d"
      },
      "source": [
        "fibonacci = getFibonacciNo()\n",
        "for i in range(0,10):\n",
        "    print(fibonacci())"
      ],
      "execution_count": 21,
      "outputs": [
        {
          "output_type": "stream",
          "text": [
            "0\n",
            "1\n",
            "1\n",
            "2\n",
            "3\n",
            "5\n",
            "8\n",
            "13\n",
            "21\n",
            "34\n"
          ],
          "name": "stdout"
        }
      ]
    },
    {
      "cell_type": "markdown",
      "metadata": {
        "id": "-hvo4HIvXKF6"
      },
      "source": [
        "We wrote a closure that counts how many times a function was called. Write a new one that can keep a track of how many times add/mul/div functions were called, and update a global dictionary variable with the counts"
      ]
    },
    {
      "cell_type": "code",
      "metadata": {
        "id": "3dczhWUBXWah"
      },
      "source": [
        "import random\n",
        "def add(no1, no2):\n",
        "  return no1 + no2\n",
        "def mul(no1, no2):\n",
        "  return no1 * no2\n",
        "def div(no1, no2):\n",
        "  return no1 / no2\n",
        "\n",
        "func_call_counter = dict ()"
      ],
      "execution_count": 31,
      "outputs": []
    },
    {
      "cell_type": "code",
      "metadata": {
        "id": "92yKyqlaXSdv"
      },
      "source": [
        "def func_count():\n",
        "    global func_call_counter\n",
        "    def func_counter(func: \"Function\", *args, **kwargs):\n",
        "        global func_call_counter \n",
        "        func_name = str(func.__name__)\n",
        "        if func_name not in list(func_call_counter.keys()):\n",
        "            func_call_counter[func_name] = 0\n",
        "        func_call_counter[func_name] += 1\n",
        "        return func(*args, **kwargs)\n",
        "    return func_counter"
      ],
      "execution_count": 32,
      "outputs": []
    },
    {
      "cell_type": "code",
      "metadata": {
        "colab": {
          "base_uri": "https://localhost:8080/"
        },
        "id": "_qv4sVZbXshj",
        "outputId": "a60410c8-437a-4fc7-b800-27681a13ea97"
      },
      "source": [
        "fc = func_count()\n",
        "\n",
        "for i in range(1, 3):\n",
        "  fc(add, random.randint(1, 4),  random.randint(1, 4))\n",
        "  fc(div, random.randint(1, 4),  random.randint(1, 4))\n",
        "  fc(mul, random.randint(1, 4),  random.randint(1, 4))\n",
        "  fc(mul, random.randint(1, 4),  random.randint(1, 4))\n",
        "\n",
        "print(func_call_counter)"
      ],
      "execution_count": 33,
      "outputs": [
        {
          "output_type": "stream",
          "text": [
            "{'add': 2, 'div': 2, 'mul': 4}\n"
          ],
          "name": "stdout"
        }
      ]
    },
    {
      "cell_type": "markdown",
      "metadata": {
        "id": "iUTB4AsoXzHp"
      },
      "source": [
        "Modify above such that now we can pass in different dictionary variables to update different dictionaries"
      ]
    },
    {
      "cell_type": "code",
      "metadata": {
        "id": "6RF0rhIz0tjj"
      },
      "source": [
        "def func_count(func_call_counter: dict):\n",
        "    if type(func_call_counter) != dict:\n",
        "        raise TypeError(\"Pass the dictionary\")\n",
        "    def func_counter(func: \"Function\", *args, **kwargs):\n",
        "        nonlocal func_call_counter \n",
        "        func_name = str(func.__name__)\n",
        "        if func_name not in list(func_call_counter.keys()):\n",
        "            func_call_counter[func_name] = 0\n",
        "        func_call_counter[func_name] += 1\n",
        "        return func(*args, **kwargs)\n",
        "    return func_counter"
      ],
      "execution_count": 34,
      "outputs": []
    },
    {
      "cell_type": "code",
      "metadata": {
        "id": "shaoXjGM1dMJ",
        "colab": {
          "base_uri": "https://localhost:8080/"
        },
        "outputId": "5aafcc54-a930-43b3-e9c7-1598e1c92153"
      },
      "source": [
        "counter_dict = dict()\n",
        "fc = func_count(counter_dict)\n",
        "\n",
        "for i in range(1, 3):\n",
        "  fc(add, random.randint(1, 4),  random.randint(1, 4))\n",
        "  fc(div, random.randint(1, 4),  random.randint(1, 4))\n",
        "  fc(mul, random.randint(1, 4),  random.randint(1, 4))\n",
        "  fc(mul, random.randint(1, 4),  random.randint(1, 4))\n",
        "\n",
        "print(counter_dict)"
      ],
      "execution_count": 35,
      "outputs": [
        {
          "output_type": "stream",
          "text": [
            "{'add': 2, 'div': 2, 'mul': 4}\n"
          ],
          "name": "stdout"
        }
      ]
    },
    {
      "cell_type": "code",
      "metadata": {
        "id": "nL9vp36McaNr"
      },
      "source": [
        ""
      ],
      "execution_count": null,
      "outputs": []
    }
  ]
}