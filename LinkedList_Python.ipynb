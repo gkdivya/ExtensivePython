{
  "nbformat": 4,
  "nbformat_minor": 0,
  "metadata": {
    "colab": {
      "name": "Untitled45.ipynb",
      "provenance": [],
      "authorship_tag": "ABX9TyMzqpbr5L3XJvLE+05ARgcb",
      "include_colab_link": true
    },
    "kernelspec": {
      "name": "python3",
      "display_name": "Python 3"
    },
    "language_info": {
      "name": "python"
    }
  },
  "cells": [
    {
      "cell_type": "markdown",
      "metadata": {
        "id": "view-in-github",
        "colab_type": "text"
      },
      "source": [
        "<a href=\"https://colab.research.google.com/github/gkdivya/ExtensivePython/blob/main/LinkedList_Python.ipynb\" target=\"_parent\"><img src=\"https://colab.research.google.com/assets/colab-badge.svg\" alt=\"Open In Colab\"/></a>"
      ]
    },
    {
      "cell_type": "code",
      "metadata": {
        "id": "mOig94FSqpBx"
      },
      "source": [
        "class Element(object):\n",
        "    def __init__(self, value):\n",
        "        self.value = value\n",
        "        self.next = None"
      ],
      "execution_count": 1,
      "outputs": []
    },
    {
      "cell_type": "code",
      "metadata": {
        "colab": {
          "base_uri": "https://localhost:8080/"
        },
        "id": "KxGUbGgJqo8Z",
        "outputId": "858f9cce-ecff-4fa2-d9f9-ec2899e7aaa6"
      },
      "source": [
        "class LinkedList(object):\n",
        "    def __init__(self, head=None):\n",
        "        self.head = head\n",
        "\n",
        "    def append(self, new_element):\n",
        "        current = self.head\n",
        "        if self.head:\n",
        "            while current.next:\n",
        "                current = current.next\n",
        "            current.next = new_element\n",
        "        else:\n",
        "            self.head = new_element\n",
        "\n",
        "            \n",
        "    def get_position(self, position):\n",
        "        \"\"\"Get an element from a particular position.\n",
        "        Assume the first position is \"1\".\n",
        "        Return \"None\" if position is not in the list.\"\"\"\n",
        "\n",
        "        if position < 1:\n",
        "            return None\n",
        "\n",
        "        if position == 1 and self.head != None:\n",
        "            return self.head\n",
        "        current = self.head\n",
        "        index = 1\n",
        "\n",
        "        while(current):\n",
        "            if (index == position):\n",
        "                return current\n",
        "            index += 1\n",
        "            current = current.next\n",
        "        \n",
        "        return None\n",
        "    \n",
        "    def insert(self, new_element, position):\n",
        "        \"\"\"Insert a new node at the given position.\n",
        "        Assume the first position is \"1\".\n",
        "        Inserting at position 3 means between\n",
        "        the 2nd and 3rd elements.\"\"\"\n",
        "        current = self.head\n",
        "        prev = self.head\n",
        "        index = 1\n",
        "        while(current):\n",
        "            if (index == position):\n",
        "                prev.next = new_element\n",
        "                new_element.next = current\n",
        "                break\n",
        "            index += 1\n",
        "            prev = current\n",
        "            current = current.next\n",
        "    \n",
        "    def delete(self, value):\n",
        "        \"\"\"Delete the first node with a given value.\"\"\"\n",
        "        current = self.head\n",
        "        prev = self.head\n",
        "        next = None\n",
        "\n",
        "        if (self.head.value == value):\n",
        "          self.head = current.next\n",
        "          return\n",
        "          \n",
        "        while (current):            \n",
        "            if current.value == value:\n",
        "                prev.next = current.next\n",
        "                current.next = None\n",
        "                break\n",
        "            prev = current\n",
        "            current = current.next\n",
        "        return    \n",
        "\n",
        "\n",
        "# Test cases\n",
        "# Set up some Elements\n",
        "e1 = Element(1)\n",
        "e2 = Element(2)\n",
        "e3 = Element(3)\n",
        "e4 = Element(4)\n",
        "\n",
        "# Start setting up a LinkedList\n",
        "ll = LinkedList(e1)\n",
        "ll.append(e2)\n",
        "ll.append(e3)\n",
        "\n",
        "# Test get_position\n",
        "# Should print 3\n",
        "print(ll.head.next.next.value)\n",
        "# Should also print 3\n",
        "print(ll.get_position(3).value)\n",
        "\n",
        "# Test insert\n",
        "ll.insert(e4,3)\n",
        "# Should print 4 now\n",
        "print(ll.get_position(3).value)\n",
        "\n",
        "# Test delete\n",
        "ll.delete(1)\n",
        "# Should print 2 now\n",
        "print(ll.get_position(1).value)\n",
        "# Should print 4 now\n",
        "print(ll.get_position(2).value)\n",
        "# Should print 3 now\n",
        "print(ll.get_position(3).value)"
      ],
      "execution_count": 16,
      "outputs": [
        {
          "output_type": "stream",
          "text": [
            "3\n",
            "3\n",
            "4\n",
            "2\n",
            "4\n",
            "3\n"
          ],
          "name": "stdout"
        }
      ]
    },
    {
      "cell_type": "code",
      "metadata": {
        "id": "nvUNcVxUqo7d"
      },
      "source": [
        "class Element(object):\n",
        "    def __init__(self, value):\n",
        "        self.value = value\n",
        "        self.next = None\n",
        "\n",
        "class LinkedList(object):\n",
        "    def __init__(self, head=None):\n",
        "        self.head = head\n",
        "\n",
        "    def append(self, new_element):\n",
        "        current = self.head\n",
        "        if self.head:\n",
        "            while current.next:\n",
        "                current = current.next\n",
        "            current.next = new_element\n",
        "        else:\n",
        "            self.head = new_element\n",
        "\n",
        "    def get_position(self, position):\n",
        "        counter = 1\n",
        "        current = self.head\n",
        "        if position < 1:\n",
        "            return None\n",
        "        while current and counter <= position:\n",
        "            if counter == position:\n",
        "                return current\n",
        "            current = current.next\n",
        "            counter += 1\n",
        "        return None\n",
        "\n",
        "    def insert(self, new_element, position):\n",
        "        counter = 1\n",
        "        current = self.head\n",
        "        if position > 1:\n",
        "            while current and counter < position:\n",
        "                if counter == position - 1:\n",
        "                    new_element.next = current.next\n",
        "                    current.next = new_element\n",
        "                current = current.next\n",
        "                counter += 1\n",
        "        elif position == 1:\n",
        "            new_element.next = self.head\n",
        "            self.head = new_element\n",
        "\n",
        "    def delete(self, value):\n",
        "        current = self.head\n",
        "        previous = None\n",
        "        while current.value != value and current.next:\n",
        "            previous = current\n",
        "            current = current.next\n",
        "        if current.value == value:\n",
        "            if previous:\n",
        "                previous.next = current.next\n",
        "            else:\n",
        "                self.head = current.next"
      ],
      "execution_count": null,
      "outputs": []
    },
    {
      "cell_type": "code",
      "metadata": {
        "id": "htxbvTzrqo2D"
      },
      "source": [
        ""
      ],
      "execution_count": null,
      "outputs": []
    },
    {
      "cell_type": "code",
      "metadata": {
        "id": "SvA63PPIqo1K"
      },
      "source": [
        ""
      ],
      "execution_count": null,
      "outputs": []
    },
    {
      "cell_type": "code",
      "metadata": {
        "id": "hhcasIu7qoo3"
      },
      "source": [
        ""
      ],
      "execution_count": null,
      "outputs": []
    },
    {
      "cell_type": "code",
      "metadata": {
        "colab": {
          "base_uri": "https://localhost:8080/"
        },
        "id": "n-_K4jkd2ZcD",
        "outputId": "4f6d32fb-41fb-4325-e2f4-a808f0bb935b"
      },
      "source": [
        "min_length = 2\n",
        "name = input(\"Please enter your name\")\n",
        "\n",
        "while not(len(name) >= min_length and name.isalpha()):\n",
        "    name = input(\"Please enter your name that is more than 2 characters\")"
      ],
      "execution_count": 3,
      "outputs": [
        {
          "output_type": "stream",
          "text": [
            "Please enter your nameDivya\n"
          ],
          "name": "stdout"
        }
      ]
    },
    {
      "cell_type": "code",
      "metadata": {
        "colab": {
          "base_uri": "https://localhost:8080/"
        },
        "id": "qVc_VrzJ2abO",
        "outputId": "4ac615b6-bb3e-4436-f6b2-3fed3a716929"
      },
      "source": [
        "bool(None)"
      ],
      "execution_count": 4,
      "outputs": [
        {
          "output_type": "execute_result",
          "data": {
            "text/plain": [
              "False"
            ]
          },
          "metadata": {
            "tags": []
          },
          "execution_count": 4
        }
      ]
    },
    {
      "cell_type": "code",
      "metadata": {
        "id": "ipIUoNScC-fO"
      },
      "source": [
        "class Rectangle:\n",
        "    def __init__ (self, width, height):\n",
        "        self.width = width\n",
        "        self.height = height\n",
        "\n",
        "    def area(self):\n",
        "        return self.width * self.height\n",
        "\n",
        "    def perimeter(self):\n",
        "        return 2 *  ( self.width + self.height)"
      ],
      "execution_count": 9,
      "outputs": []
    },
    {
      "cell_type": "code",
      "metadata": {
        "id": "lRJu7uH_C_vr"
      },
      "source": [
        "r1 = Rectangle(100,200)"
      ],
      "execution_count": 10,
      "outputs": []
    },
    {
      "cell_type": "code",
      "metadata": {
        "colab": {
          "base_uri": "https://localhost:8080/",
          "height": 35
        },
        "id": "9LGqsJ-WDDLY",
        "outputId": "1fae7db8-26a7-459a-a576-3f199b72ac32"
      },
      "source": [
        "str(r1)"
      ],
      "execution_count": 11,
      "outputs": [
        {
          "output_type": "execute_result",
          "data": {
            "application/vnd.google.colaboratory.intrinsic+json": {
              "type": "string"
            },
            "text/plain": [
              "'<__main__.Rectangle object at 0x7f649cbc7dd0>'"
            ]
          },
          "metadata": {
            "tags": []
          },
          "execution_count": 11
        }
      ]
    },
    {
      "cell_type": "code",
      "metadata": {
        "colab": {
          "base_uri": "https://localhost:8080/"
        },
        "id": "F0EG1bbADE9k",
        "outputId": "44277d6a-8b36-490b-ecb4-11e39c3780e4"
      },
      "source": [
        "id(r1)"
      ],
      "execution_count": 12,
      "outputs": [
        {
          "output_type": "execute_result",
          "data": {
            "text/plain": [
              "140070103055824"
            ]
          },
          "metadata": {
            "tags": []
          },
          "execution_count": 12
        }
      ]
    },
    {
      "cell_type": "code",
      "metadata": {
        "colab": {
          "base_uri": "https://localhost:8080/"
        },
        "id": "Hk_UMv1f3hsp",
        "outputId": "bc6a6397-8ef1-4e40-cd93-46fcec47bff4"
      },
      "source": [
        "for i in range(10):\n",
        "    if i == 3:\n",
        "        continue\n",
        "    print(i)\n",
        "else:\n",
        "    print(\"no break was found\")"
      ],
      "execution_count": 8,
      "outputs": [
        {
          "output_type": "stream",
          "text": [
            "0\n",
            "1\n",
            "2\n",
            "4\n",
            "5\n",
            "6\n",
            "7\n",
            "8\n",
            "9\n",
            "no break was found\n"
          ],
          "name": "stdout"
        }
      ]
    },
    {
      "cell_type": "code",
      "metadata": {
        "id": "99wR8xKF9BDS"
      },
      "source": [
        ""
      ],
      "execution_count": null,
      "outputs": []
    }
  ]
}